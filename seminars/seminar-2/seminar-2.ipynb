{
  "cells": [
    {
      "cell_type": "markdown",
      "id": "4b8a1d8d",
      "metadata": {
        "id": "4b8a1d8d"
      },
      "source": [
        "# Seminar 2\n",
        "\n",
        "\n",
        "Matrix norms, unitary matrices"
      ]
    },
    {
      "cell_type": "code",
      "execution_count": null,
      "id": "5e936c68",
      "metadata": {
        "id": "5e936c68"
      },
      "outputs": [],
      "source": [
        "import numpy as np"
      ]
    },
    {
      "cell_type": "markdown",
      "id": "6ac842fb",
      "metadata": {
        "id": "6ac842fb"
      },
      "source": [
        "### Useful tools using numpy\n"
      ]
    },
    {
      "cell_type": "code",
      "execution_count": null,
      "id": "f0fee776",
      "metadata": {
        "id": "f0fee776"
      },
      "outputs": [],
      "source": [
        "n, m = 3, 3"
      ]
    },
    {
      "cell_type": "code",
      "execution_count": null,
      "id": "f2572bdb",
      "metadata": {
        "colab": {
          "base_uri": "https://localhost:8080/"
        },
        "id": "f2572bdb",
        "outputId": "4413d026-b38b-4df1-ed19-3fb13141cfe2"
      },
      "outputs": [
        {
          "output_type": "execute_result",
          "data": {
            "text/plain": [
              "array([[-1.70582563, -0.12652267, -0.77566702],\n",
              "       [ 2.23650683, -0.3900103 , -0.72988584],\n",
              "       [-0.92945329,  1.23676149,  1.68089367]])"
            ]
          },
          "metadata": {},
          "execution_count": 4
        }
      ],
      "source": [
        "#Generate random matrix from N(0, 1)\n",
        "np.random.normal(size=(n,m))"
      ]
    },
    {
      "cell_type": "code",
      "execution_count": null,
      "id": "2b90f68e",
      "metadata": {
        "colab": {
          "base_uri": "https://localhost:8080/"
        },
        "id": "2b90f68e",
        "outputId": "3b459af9-9d63-4261-d651-32174997ea4c"
      },
      "outputs": [
        {
          "output_type": "execute_result",
          "data": {
            "text/plain": [
              "array([[1., 0., 0.],\n",
              "       [0., 1., 0.],\n",
              "       [0., 0., 1.]])"
            ]
          },
          "metadata": {},
          "execution_count": 5
        }
      ],
      "source": [
        "# Create the n×n identity matrix I.\n",
        "\n",
        "np.identity(n)"
      ]
    },
    {
      "cell_type": "code",
      "execution_count": null,
      "id": "f607c9af",
      "metadata": {
        "colab": {
          "base_uri": "https://localhost:8080/"
        },
        "id": "f607c9af",
        "outputId": "a4e6dc13-afc1-4504-8b0b-c1f7020c6a77"
      },
      "outputs": [
        {
          "output_type": "execute_result",
          "data": {
            "text/plain": [
              "array([[ 4,  8, 15],\n",
              "       [16, 23, 42],\n",
              "       [ 0,  0,  0]])"
            ]
          },
          "metadata": {},
          "execution_count": 6
        }
      ],
      "source": [
        "# defining your own matrix\n",
        "\n",
        "np.array([[4,  8,  15],\n",
        "           [16, 23, 42],\n",
        "           [0,  0,  0]])"
      ]
    },
    {
      "cell_type": "code",
      "execution_count": null,
      "id": "4e860334",
      "metadata": {
        "colab": {
          "base_uri": "https://localhost:8080/"
        },
        "id": "4e860334",
        "outputId": "eed44664-f5f5-4f01-a3d8-9dd6669561bb"
      },
      "outputs": [
        {
          "output_type": "stream",
          "name": "stdout",
          "text": [
            "[[ 0.43027203  0.02616388  1.5334068 ]\n",
            " [ 0.00353183 -0.6393471   0.57089205]\n",
            " [ 2.53384358  0.51734497  1.49414279]]\n",
            "\n",
            "[ 1.7755594  -0.14653985  2.13601041]\n"
          ]
        }
      ],
      "source": [
        "# Generate random samples from N(0, 1)\n",
        "# Matrix multiplication: A @ B (matrix–matrix) or A @ x (matrix–vector)\n",
        "\n",
        "a = np.random.normal(size=(n,m))\n",
        "b = np.random.normal(size=(n,m))\n",
        "x = np.random.normal(size=(n,))\n",
        "print(np.matmul(a, b))\n",
        "print()\n",
        "print(np.matmul(a, x))\n"
      ]
    },
    {
      "cell_type": "code",
      "source": [
        "a@b"
      ],
      "metadata": {
        "colab": {
          "base_uri": "https://localhost:8080/"
        },
        "id": "sLhHqrVLaepY",
        "outputId": "f66cc9d6-f513-49df-d83e-bbfaefd062c1"
      },
      "id": "sLhHqrVLaepY",
      "execution_count": null,
      "outputs": [
        {
          "output_type": "execute_result",
          "data": {
            "text/plain": [
              "array([[ 0.43027203,  0.02616388,  1.5334068 ],\n",
              "       [ 0.00353183, -0.6393471 ,  0.57089205],\n",
              "       [ 2.53384358,  0.51734497,  1.49414279]])"
            ]
          },
          "metadata": {},
          "execution_count": 9
        }
      ]
    },
    {
      "cell_type": "code",
      "source": [
        "a@x"
      ],
      "metadata": {
        "colab": {
          "base_uri": "https://localhost:8080/"
        },
        "id": "cS7vdKW7aixe",
        "outputId": "9a0d9a51-fd22-41ab-90e2-16db21d0eaef"
      },
      "id": "cS7vdKW7aixe",
      "execution_count": null,
      "outputs": [
        {
          "output_type": "execute_result",
          "data": {
            "text/plain": [
              "array([ 1.7755594 , -0.14653985,  2.13601041])"
            ]
          },
          "metadata": {},
          "execution_count": 10
        }
      ]
    },
    {
      "cell_type": "code",
      "execution_count": null,
      "id": "1d889166",
      "metadata": {
        "colab": {
          "base_uri": "https://localhost:8080/"
        },
        "id": "1d889166",
        "outputId": "5ad59e75-aa47-4296-b92d-99d5ee5c473a"
      },
      "outputs": [
        {
          "output_type": "stream",
          "name": "stdout",
          "text": [
            "0 4\n",
            "1 16\n",
            "2 0\n"
          ]
        }
      ],
      "source": [
        "b=np.array([[4,  8,  15],\n",
        "           [16, 23, 42],\n",
        "           [0,  0,  0]])\n",
        "for i,j in enumerate(b):\n",
        "    print(i, j[0])"
      ]
    },
    {
      "cell_type": "code",
      "execution_count": null,
      "id": "577bcb8e",
      "metadata": {
        "colab": {
          "base_uri": "https://localhost:8080/"
        },
        "id": "577bcb8e",
        "outputId": "1e82b029-8c5f-464d-c47c-0321436e12bd"
      },
      "outputs": [
        {
          "output_type": "execute_result",
          "data": {
            "text/plain": [
              "array([ 4, 16,  0])"
            ]
          },
          "metadata": {},
          "execution_count": 16
        }
      ],
      "source": [
        "#or\n",
        "b[:,0]"
      ]
    },
    {
      "cell_type": "code",
      "execution_count": null,
      "id": "60d0326a",
      "metadata": {
        "id": "60d0326a"
      },
      "outputs": [],
      "source": []
    },
    {
      "cell_type": "markdown",
      "source": [
        "# Matrix Norms Calculation"
      ],
      "metadata": {
        "id": "CPdxLmudpJbO"
      },
      "id": "CPdxLmudpJbO"
    },
    {
      "cell_type": "markdown",
      "source": [
        "\n",
        "- **$p=1$ (max column sum):**\n",
        "  $$\n",
        "  \\|A\\|_{1} \\;=\\; \\max_{1\\le j\\le m} \\sum_{i=1}^{n} |a_{ij}|.\n",
        "  $$\n",
        "- **$p=\\infty$ (max row sum):**\n",
        "  $$\n",
        "  \\|A\\|_{\\infty} \\;=\\; \\max_{1\\le i\\le n} \\sum_{j=1}^{m} |a_{ij}|.\n",
        "  $$\n",
        "- **$p=2$ (spectral norm):**\n",
        "  $$\n",
        "  \\|A\\|_{2} \\;=\\; \\sigma_{\\max}(A)\n",
        "  \\;=\\; \\sqrt{\\lambda_{\\max}(A^{\\top}A)}.\n",
        "  $$\n",
        "\n",
        "**Frobenius norm (matrix but not operator norm):**\n",
        "$$\n",
        "\\|A\\|_{F} \\;=\\; \\sqrt{\\sum_{i,j} a_{ij}^{2}}\n",
        "\\;=\\; \\sqrt{\\mathrm{tr}(A^{\\top}A)}.\n",
        "$$\n",
        "\n"
      ],
      "metadata": {
        "id": "cqBN0VFvetRF"
      },
      "id": "cqBN0VFvetRF"
    },
    {
      "cell_type": "markdown",
      "source": [
        "## Exercise 1 — $\\|A\\|_{1}$ and $\\|A\\|_{\\infty}$\n",
        "\n",
        "Let\n",
        "$$\n",
        "A=\\begin{bmatrix}\n",
        "1 & -2\\\\\n",
        "0 & 3\n",
        "\\end{bmatrix}.\n",
        "$$\n",
        "\n",
        "Compute $\\|A\\|_{1}$ and $\\|A\\|_{\\infty}$\n"
      ],
      "metadata": {
        "id": "8XW4kYRukX8Q"
      },
      "id": "8XW4kYRukX8Q"
    },
    {
      "cell_type": "markdown",
      "source": [
        "\n",
        "## **Solution**\n",
        "\n"
      ],
      "metadata": {
        "id": "0Pfy7TYBkjLk"
      },
      "id": "0Pfy7TYBkjLk"
    },
    {
      "cell_type": "markdown",
      "source": [
        "\n",
        "- Column sums: column 1: $\\lvert1\\rvert+\\lvert0\\rvert=1$, column 2: $\\lvert-2\\rvert+\\lvert3\\rvert=5$.  \n",
        "  Hence\n",
        "  $$\n",
        "  \\|A\\|_{1}=\\max\\{1,5\\}=5.\n",
        "  $$\n",
        "\n",
        "- Row sums: row 1: $\\lvert1\\rvert+\\lvert-2\\rvert=3$, row 2: $\\lvert0\\rvert+\\lvert3\\rvert=3$.  \n",
        "  Hence\n",
        "  $$\n",
        "  \\|A\\|_{\\infty}=\\max\\{3,3\\}=3.\n",
        "  $$\n"
      ],
      "metadata": {
        "id": "AZ2T8OPslJ_d"
      },
      "id": "AZ2T8OPslJ_d"
    },
    {
      "cell_type": "markdown",
      "source": [
        "\n",
        "## Exercise 2 — Compute $\\|A\\|_{2}$ via $A^{\\top}A$\n",
        "\n",
        "Let\n",
        "$$\n",
        "A=\\begin{bmatrix}\n",
        "1 & 2\\\\\n",
        "0 & 1\n",
        "\\end{bmatrix}.\n",
        "$$\n",
        "\n",
        "Compute the spectral norm $\\|A\\|_{2}=\\sqrt{\\lambda_{\\max}(A^{\\top}A)}$.\n"
      ],
      "metadata": {
        "id": "SUrM4KGAjl6U"
      },
      "id": "SUrM4KGAjl6U"
    },
    {
      "cell_type": "markdown",
      "source": [
        "## **Hint**"
      ],
      "metadata": {
        "id": "JvngnkLVlvuu"
      },
      "id": "JvngnkLVlvuu"
    },
    {
      "cell_type": "markdown",
      "source": [
        "**Eigenvalues and Characteristic Polynomial**\n",
        "\n",
        "Scalar $\\lambda$ is an eigenvalue of $A$ if there exists a nonzero vector $v$ such that\n",
        "$$\n",
        "Av=\\lambda v,\\qquad v\\neq 0.\n",
        "$$\n",
        "\n",
        "**Characteristic polynomial:**\n",
        "$$\n",
        "p(\\lambda)=\\det(A-\\lambda I).\n",
        "$$\n",
        "**Eigenvalues** are the roots of $p(\\lambda)=0$.\n",
        "\n",
        "**$(2\\times 2)$ closed form.** If\n",
        "$$\n",
        "A=\\begin{bmatrix} a & b \\\\ c & d \\end{bmatrix},\n",
        "$$\n",
        "then\n",
        "$$\n",
        "\\lambda_{1,2}=\\frac{\\operatorname{tr}A \\pm \\sqrt{(\\operatorname{tr}A)^2-4\\det A}}{2},\n",
        "\\qquad\n",
        "\\operatorname{tr}A=a+d,\\;\\; \\det A=ad-bc.\n",
        "$$\n"
      ],
      "metadata": {
        "id": "e8WsJksAlzJF"
      },
      "id": "e8WsJksAlzJF"
    },
    {
      "cell_type": "markdown",
      "source": [
        "## **Solution**"
      ],
      "metadata": {
        "id": "A-TBEIrTljvL"
      },
      "id": "A-TBEIrTljvL"
    },
    {
      "cell_type": "markdown",
      "source": [
        "$$\n",
        "A^{\\top}A\n",
        "=\\begin{bmatrix}1&0\\\\ 2&1\\end{bmatrix}\n",
        "\\begin{bmatrix}1&2\\\\ 0&1\\end{bmatrix}\n",
        "=\\begin{bmatrix}1&2\\\\ 2&5\\end{bmatrix}.\n",
        "$$\n",
        "\n",
        "Eigenvalues of $\\begin{bmatrix}1&2\\\\ 2&5\\end{bmatrix}$ are\n",
        "$$\n",
        "\\lambda_{\\pm}=\\frac{(1+5)\\pm\\sqrt{(1-5)^2+4\\cdot 2^2}}{2}\n",
        "=\\frac{6\\pm\\sqrt{32}}{2}\n",
        "=3\\pm 2\\sqrt{2}.\n",
        "$$\n",
        "Thus $\\lambda_{\\max}=3+2\\sqrt{2}\\approx 5.8284$, and\n",
        "$$\n",
        "\\|A\\|_{2}=\\sqrt{\\lambda_{\\max}}\\approx \\sqrt{5.8284}\\approx 2.4142.\n",
        "$$"
      ],
      "metadata": {
        "id": "JmYaeHeilhJF"
      },
      "id": "JmYaeHeilhJF"
    },
    {
      "cell_type": "markdown",
      "source": [
        "## Exercise 3 — Quick spectral-norm check\n",
        "\n",
        "Let\n",
        "$$\n",
        "D=\\begin{bmatrix}\n",
        "3&0&0\\\\\n",
        "0&-1&0\\\\\n",
        "0&0&2\n",
        "\\end{bmatrix}.\n",
        "$$\n",
        "\n",
        "Compute $\\|D\\|_{2}$.\n",
        "\n"
      ],
      "metadata": {
        "id": "kQchboN1leXJ"
      },
      "id": "kQchboN1leXJ"
    },
    {
      "cell_type": "markdown",
      "source": [
        "##**Solution**"
      ],
      "metadata": {
        "id": "cg03xmFhnhCH"
      },
      "id": "cg03xmFhnhCH"
    },
    {
      "cell_type": "markdown",
      "source": [
        "For diagonal $D$, singular values are the absolute diagonal entries $(3,1,2)$. Hence\n",
        "$$\n",
        "\\|D\\|_{2}=\\max\\{3,1,2\\}=3.\n",
        "$$"
      ],
      "metadata": {
        "id": "Gax_VFainhnM"
      },
      "id": "Gax_VFainhnM"
    },
    {
      "cell_type": "markdown",
      "source": [
        "## Exercise 4 — Frobenius norm\n",
        "\n",
        "Let\n",
        "$$\n",
        "B=\\begin{bmatrix}\n",
        "1 & -2 & 2\\\\\n",
        "0 & 3 & -1\n",
        "\\end{bmatrix}.\n",
        "$$\n",
        "\n",
        "Compute $\\|B\\|_{F}$ and verify $\\|B\\|_{F}=\\sqrt{\\mathrm{tr}(B^{\\top}B)}$.\n",
        "\n"
      ],
      "metadata": {
        "id": "CZG1seZznhpS"
      },
      "id": "CZG1seZznhpS"
    },
    {
      "cell_type": "markdown",
      "source": [
        "## **Solution**"
      ],
      "metadata": {
        "id": "pHx7sgQrn6aY"
      },
      "id": "pHx7sgQrn6aY"
    },
    {
      "cell_type": "markdown",
      "source": [
        "**Sum of squares**\n",
        "$$\n",
        "1^2+(-2)^2+2^2+0^2+3^2+(-1)^2\n",
        "=1+4+4+0+9+1=19.\n",
        "$$\n",
        "So\n",
        "$$\n",
        "\\|B\\|_{F}=\\sqrt{19}\\approx 4.3589.\n",
        "$$\n",
        "\n",
        "**Via** $\\sqrt{\\mathrm{tr}(B^\\top B)}$\n",
        "\n",
        "Compute $B^\\top$\n",
        "$$\n",
        "B^\\top=\\begin{bmatrix}\n",
        "1 & 0\\\\\n",
        "-2 & 3\\\\\n",
        "2 & -1\n",
        "\\end{bmatrix}.\n",
        "$$\n",
        "\n",
        "Multiply $B^\\top B$ (show every dot product)\n",
        "\n",
        "Columns of $B$:\n",
        "$$\n",
        "c_1=\\begin{bmatrix}1\\\\0\\end{bmatrix},\\quad\n",
        "c_2=\\begin{bmatrix}-2\\\\3\\end{bmatrix},\\quad\n",
        "c_3=\\begin{bmatrix}2\\\\-1\\end{bmatrix}.\n",
        "$$\n",
        "\n",
        "Rows of $B^\\top$:\n",
        "$$\n",
        "r_1=\\begin{bmatrix}1 & 0\\end{bmatrix},\\quad\n",
        "r_2=\\begin{bmatrix}-2 & 3\\end{bmatrix},\\quad\n",
        "r_3=\\begin{bmatrix}2 & -1\\end{bmatrix}.\n",
        "$$\n",
        "\n",
        "Now each entry $(B^\\top B)_{ij}=r_i\\cdot c_j$:\n",
        "$$\n",
        "\\begin{aligned}\n",
        "(B^\\top B)_{11}&=r_1\\cdot c_1=1\\cdot1+0\\cdot0=1,\\\\\n",
        "(B^\\top B)_{12}&=r_1\\cdot c_2=1\\cdot(-2)+0\\cdot3=-2,\\\\\n",
        "(B^\\top B)_{13}&=r_1\\cdot c_3=1\\cdot2+0\\cdot(-1)=2,\\\\[4pt]\n",
        "(B^\\top B)_{21}&=r_2\\cdot c_1=(-2)\\cdot1+3\\cdot0=-2,\\\\\n",
        "(B^\\top B)_{22}&=r_2\\cdot c_2=(-2)\\cdot(-2)+3\\cdot3=4+9=13,\\\\\n",
        "(B^\\top B)_{23}&=r_2\\cdot c_3=(-2)\\cdot2+3\\cdot(-1)=-4-3=-7,\\\\[4pt]\n",
        "(B^\\top B)_{31}&=r_3\\cdot c_1=2\\cdot1+(-1)\\cdot0=2,\\\\\n",
        "(B^\\top B)_{32}&=r_3\\cdot c_2=2\\cdot(-2)+(-1)\\cdot3=-4-3=-7,\\\\\n",
        "(B^\\top B)_{33}&=r_3\\cdot c_3=2\\cdot2+(-1)\\cdot(-1)=4+1=5.\n",
        "\\end{aligned}\n",
        "$$\n",
        "\n",
        "Therefore\n",
        "$$\n",
        "B^\\top B=\\begin{bmatrix}\n",
        "1 & -2 & 2\\\\\n",
        "-2 & 13 & -7\\\\\n",
        "2 & -7 & 5\n",
        "\\end{bmatrix}.\n",
        "$$\n",
        "\n",
        "Take the trace\n",
        "$$\n",
        "\\mathrm{tr}(B^\\top B)=1+13+5=19.\n",
        "$$\n",
        "\n",
        "Conclude\n",
        "$$\n",
        "\\boxed{\\ \\|B\\|_F=\\sqrt{\\mathrm{tr}(B^\\top B)}=\\sqrt{19}\\ }.\n",
        "$$\n",
        "\n"
      ],
      "metadata": {
        "id": "svbKxMUzn6iH"
      },
      "id": "svbKxMUzn6iH"
    },
    {
      "cell_type": "code",
      "source": [],
      "metadata": {
        "id": "E5WHH7yVjkAX"
      },
      "id": "E5WHH7yVjkAX",
      "execution_count": null,
      "outputs": []
    },
    {
      "cell_type": "code",
      "source": [],
      "metadata": {
        "id": "imC7PjQ1jkCn"
      },
      "id": "imC7PjQ1jkCn",
      "execution_count": null,
      "outputs": []
    },
    {
      "cell_type": "code",
      "source": [],
      "metadata": {
        "id": "IAtrkRZSjkE7"
      },
      "id": "IAtrkRZSjkE7",
      "execution_count": null,
      "outputs": []
    },
    {
      "cell_type": "code",
      "source": [],
      "metadata": {
        "id": "PoSVhyLyjkG6"
      },
      "id": "PoSVhyLyjkG6",
      "execution_count": null,
      "outputs": []
    },
    {
      "cell_type": "markdown",
      "id": "c2b492a0",
      "metadata": {
        "id": "c2b492a0"
      },
      "source": [
        "# Matrix Norms Calculation with python"
      ]
    },
    {
      "cell_type": "markdown",
      "id": "b1c92b45",
      "metadata": {
        "id": "b1c92b45"
      },
      "source": [
        "Important case of operator norms are matrix p-norms, which are defined for $\\|\\cdot\\|_* = \\|\\cdot\\|_{**} = \\|\\cdot\\|_p$\n",
        "\n",
        "Among all p-norms three norms are the most common ones:\n",
        "\n",
        "$p = 1, \\quad \\Vert A \\Vert_{1} = \\displaystyle{\\max_j \\sum_{i=1}^n} |a_{ij}|$\n",
        "\n",
        "$p = 2, \\quad$ spectral norm, denoted by $\\Vert A \\Vert_2$\n",
        "\n",
        "$p = \\infty, \\quad \\Vert A \\Vert_{\\infty} = \\displaystyle{\\max_i \\sum_{j=1}^m} |a_{ij}|$\n",
        "\n",
        "Let us work with = 1 and inf now."
      ]
    },
    {
      "cell_type": "markdown",
      "id": "ef917c96",
      "metadata": {
        "id": "ef917c96"
      },
      "source": [
        "### Lets write our own functions to calculate 0 and inf norms:\n"
      ]
    },
    {
      "cell_type": "code",
      "execution_count": null,
      "id": "b24c654e",
      "metadata": {
        "colab": {
          "base_uri": "https://localhost:8080/"
        },
        "id": "b24c654e",
        "outputId": "67f70dea-cf57-46f8-cf80-fff8d4bf63ca"
      },
      "outputs": [
        {
          "output_type": "stream",
          "name": "stdout",
          "text": [
            "[[-1.44699689 -1.53471388  0.43762615]\n",
            " [-0.65175735  0.1924952   0.15954042]\n",
            " [-0.5610403   0.4727873  -0.25184526]]\n",
            "p_1 norm:  2.659794534508114\n",
            "p_inf norm:  3.4193369151172304\n"
          ]
        }
      ],
      "source": [
        "def p_1_norm(a):\n",
        "    n,m = a.shape\n",
        "    max = 0\n",
        "    for i in range(m):\n",
        "        max = np.max([np.sum(np.abs(a[:,[i]])), max])\n",
        "    return max\n",
        "\n",
        "def p_inf_norm(a):\n",
        "    n,m = a.shape\n",
        "    max = 0\n",
        "    for i in range(n):\n",
        "        max = np.max([np.sum(np.abs(a[i])), max])\n",
        "    return max\n",
        "\n",
        "m, n = 3, 3\n",
        "a = np.random.normal(size=(n,m)) #Random n x m matrix\n",
        "print(a)\n",
        "print(\"p_1 norm: \", p_1_norm(a))\n",
        "print(\"p_inf norm: \", p_inf_norm(a))"
      ]
    },
    {
      "cell_type": "markdown",
      "id": "aef8b481",
      "metadata": {
        "id": "aef8b481"
      },
      "source": [
        "### Now, make up a toy example matrix for which these two are equal:"
      ]
    },
    {
      "cell_type": "code",
      "execution_count": null,
      "id": "90f910fa",
      "metadata": {
        "colab": {
          "base_uri": "https://localhost:8080/"
        },
        "id": "90f910fa",
        "outputId": "717d6e2d-6250-4ec4-ee9d-156025b456c2"
      },
      "outputs": [
        {
          "output_type": "stream",
          "name": "stdout",
          "text": [
            "p_1 norm:  1\n",
            "p_inf norm:  1\n",
            "True\n"
          ]
        }
      ],
      "source": [
        "b = np.array([[1, 0, 0],\n",
        "               [0, 1, 0],\n",
        "               [0, 0, 1]])\n",
        "\n",
        "print(\"p_1 norm: \", p_1_norm(b))\n",
        "print(\"p_inf norm: \", p_inf_norm(b))\n",
        "print(p_1_norm(b) == p_inf_norm(b))"
      ]
    },
    {
      "cell_type": "markdown",
      "id": "29b0fb60",
      "metadata": {
        "id": "29b0fb60"
      },
      "source": [
        "### Creative task: invent your own matrix norm and check that it satisfies three norm requirements"
      ]
    },
    {
      "cell_type": "markdown",
      "id": "a2fa2a31",
      "metadata": {
        "id": "a2fa2a31"
      },
      "source": [
        "$\\Vert \\cdot \\Vert$ is called a **matrix norm** if it is a vector norm on the vector space of $n \\times m$ matrices and:\n",
        "\n",
        "$\\|A\\| \\geq 0$ and if $\\|A\\| = 0$ then $A = O$\n",
        "\n",
        "$\\|\\alpha A\\| = |\\alpha| \\|A\\|$\n",
        "\n",
        "$\\|A+B\\| \\leq \\|A\\| + \\|B\\|$ (triangle inequality)\n",
        "\n",
        "\n",
        "Additionally some norms can satisfy the *submultiplicative property*:\n",
        "$\\Vert A B \\Vert \\leq \\Vert A \\Vert \\Vert B \\Vert$"
      ]
    },
    {
      "cell_type": "markdown",
      "source": [
        "## **Solution**"
      ],
      "metadata": {
        "id": "rPhSkGZls58L"
      },
      "id": "rPhSkGZls58L"
    },
    {
      "cell_type": "code",
      "execution_count": null,
      "id": "41cddfbc",
      "metadata": {
        "id": "41cddfbc"
      },
      "outputs": [],
      "source": [
        "# Explanation: Example of a non‑norm: sum of absolute diagonal entries (fails ||A||=0 ⇒ A=0).\n",
        "def super_norm(a):\n",
        "\n",
        "    n,m = a.shape\n",
        "    sum = 0\n",
        "    for i in range(n):\n",
        "        sum += np.abs(a[i,i])\n",
        "\n",
        "    return sum"
      ]
    },
    {
      "cell_type": "code",
      "execution_count": null,
      "id": "0c4d3dbb",
      "metadata": {
        "id": "0c4d3dbb"
      },
      "outputs": [],
      "source": [
        "n, m = 50, 50"
      ]
    },
    {
      "cell_type": "markdown",
      "id": "123047eb",
      "metadata": {
        "id": "123047eb"
      },
      "source": [
        "Now, lets check all requirements. **Attention!** If some conditions seem to not work, recall previous lecture to understand and fix the problem"
      ]
    },
    {
      "cell_type": "code",
      "execution_count": null,
      "id": "51d4e339",
      "metadata": {
        "colab": {
          "base_uri": "https://localhost:8080/"
        },
        "id": "51d4e339",
        "outputId": "8f41b27a-5ca3-4b9f-e453-c9dcb42b4d63"
      },
      "outputs": [
        {
          "output_type": "stream",
          "name": "stdout",
          "text": [
            "is_nonnegative:  True\n"
          ]
        }
      ],
      "source": [
        "# Explanation: Generate random samples from N(0, 1); shapes determine vectors/matrices. | Check nonnegativity: a norm should never be negative.\n",
        "is_nonnegative = True\n",
        "\n",
        "for i in range(42):\n",
        "    a = np.random.normal(size=(n,m))\n",
        "\n",
        "    if super_norm(a) < 0:\n",
        "        is_nonnegative = False\n",
        "\n",
        "print(\"is_nonnegative: \", is_nonnegative)"
      ]
    },
    {
      "cell_type": "code",
      "execution_count": null,
      "id": "de8b154e",
      "metadata": {
        "colab": {
          "base_uri": "https://localhost:8080/"
        },
        "id": "de8b154e",
        "outputId": "5dc54e5b-af3a-4110-f2f4-35c14118b66a"
      },
      "outputs": [
        {
          "output_type": "stream",
          "name": "stdout",
          "text": [
            "respects_zero:  True\n"
          ]
        }
      ],
      "source": [
        "# Check zero property: ||0|| = 0\n",
        "respects_zero = True\n",
        "\n",
        "a = np.zeros((n,m))\n",
        "\n",
        "if super_norm(a) != 0:\n",
        "    respects_zero = False\n",
        "\n",
        "print(\"respects_zero: \", respects_zero)"
      ]
    },
    {
      "cell_type": "code",
      "execution_count": null,
      "id": "c597d969",
      "metadata": {
        "colab": {
          "base_uri": "https://localhost:8080/"
        },
        "id": "c597d969",
        "outputId": "dd6db20d-5671-4ec2-de0d-235df04cae7a"
      },
      "outputs": [
        {
          "output_type": "stream",
          "name": "stdout",
          "text": [
            "respects_scalar_mult:  True\n"
          ]
        }
      ],
      "source": [
        "# Check homogeneity: ||αA|| = |α|·||A||\n",
        "respects_scalar_mult = True\n",
        "\n",
        "for i in range(42):\n",
        "    a = np.random.normal(size=(n,m))\n",
        "    alpha = np.abs(np.random.normal())\n",
        "\n",
        "    if np.abs(super_norm(alpha * a) - alpha * super_norm(a)) > 0.001:\n",
        "        respects_scalar_mult = False\n",
        "\n",
        "print(\"respects_scalar_mult: \", respects_scalar_mult)"
      ]
    },
    {
      "cell_type": "code",
      "execution_count": null,
      "id": "69c4a192",
      "metadata": {
        "colab": {
          "base_uri": "https://localhost:8080/"
        },
        "id": "69c4a192",
        "outputId": "e1f3e7dc-18da-4b1e-fd00-793f01c54e8b"
      },
      "outputs": [
        {
          "output_type": "stream",
          "name": "stdout",
          "text": [
            "triangle_inequality:  True\n"
          ]
        }
      ],
      "source": [
        "# Check triangle inequality: ||A+B|| ≤ ||A|| + ||B||.\n",
        "triangle_inequality = True\n",
        "\n",
        "for i in range(42):\n",
        "    a = np.random.normal(size=(n,m))\n",
        "    b = np.random.normal(size=(n,m))\n",
        "\n",
        "    if super_norm(a + b) > super_norm(a) + super_norm(b):\n",
        "        triangle_inequality = False\n",
        "\n",
        "print(\"triangle_inequality: \", triangle_inequality)"
      ]
    },
    {
      "cell_type": "code",
      "execution_count": null,
      "id": "419db1df",
      "metadata": {
        "colab": {
          "base_uri": "https://localhost:8080/"
        },
        "id": "419db1df",
        "outputId": "5e39b190-906b-47a3-fd07-b898831a05d8"
      },
      "outputs": [
        {
          "output_type": "stream",
          "name": "stdout",
          "text": [
            "is_submultiplicative:  True\n"
          ]
        }
      ],
      "source": [
        "# check submultiplicativity ||AB|| ≤ ||A||·||B||\n",
        "\n",
        "is_submultiplicative = True\n",
        "\n",
        "for i in range(42):\n",
        "    a = np.random.normal(size=(n,m))\n",
        "    b = np.random.normal(size=(n,m))\n",
        "\n",
        "    if super_norm(np.matmul(a, b)) > super_norm(a) * super_norm(b):\n",
        "        is_submultiplicative = False\n",
        "\n",
        "print(\"is_submultiplicative: \", is_submultiplicative)"
      ]
    },
    {
      "cell_type": "markdown",
      "id": "f937c87a",
      "metadata": {
        "id": "f937c87a"
      },
      "source": [
        "## **Householder Martices**"
      ]
    },
    {
      "cell_type": "markdown",
      "id": "364e8044",
      "metadata": {
        "id": "364e8044"
      },
      "source": [
        "Householder matrix is the matrix of the form:\n",
        "$$H \\equiv H(v) = I - 2 vv^*,$$\n",
        "where $v$ is an $n \\times 1$ column and $v^* v = 1$.\n",
        "\n",
        "It is also a reflection:\n",
        "$$ Hx = x - 2(v^* x) v$$\n",
        "\n",
        "**Attention!** If it does not work, remember about vector norm"
      ]
    },
    {
      "cell_type": "markdown",
      "source": [
        "# Core formulas\n",
        "**Householder matrix.** A Householder matrix is ($H=I-2vv^{*}$) with ($|v|_2=1$); it reflects a vector across the hyperplane orthogonal to (v) (flips the component along (v), leaves the rest unchanged). It is both Hermitian and Unitary: ($H^{*}=H$) and ($H^{*}H=I$).\n",
        "\n",
        "**Hermitian matrix.** A matrix is **Hermitian** if ($A^{*}=A$), which guarantees real eigenvalues and an orthonormal eigenbasis.\n",
        "\n",
        "What is a **unitary matrix**?\n",
        "\n",
        "A matrix (U) (real or complex) is **unitary** if it preserves lengths and angles:\n",
        "$$\n",
        "U^{*}U=I \\quad(\\text{equivalently } U^{-1}=U^{*}).\n",
        "$$\n",
        "\n",
        "**Unitary and involutory properties of (H)**\n",
        "\n",
        "For the Householder reflector\n",
        "$$\n",
        "H=I-2vv^{*},\\qquad v^{*}v=1,\n",
        "$$\n",
        "we have two key properties:\n",
        "\n",
        "1. **Unitary**:\n",
        "   $$\n",
        "   H^{*}H=(I-2vv^{*})^{*}(I-2vv^{*})=(I-2vv^{*})(I-2vv^{*})=I,\n",
        "   $$\n",
        "   since ($v^{*}v=1$). So (H) preserves lengths: ($|Hx|_2=|x|_2$).\n",
        "\n",
        "2. **Involutory** (its own inverse):\n",
        "   $$\n",
        "   H^2=(I-2vv^{*})^2=I-4vv^{*}+4v(v^{*}v)v^{*}=I.\n",
        "   $$\n",
        "   Involutory means ($H^{-1}=H$); applying the reflector twice gives you back the original vector.\n",
        "\n",
        "(Additionally, (H) is **Hermitian**: ($H^{*}=H$).)\n",
        "\n",
        "\n",
        "\n",
        "**Vector 2-norm and normalization**\n",
        "   $$\n",
        "   \\|v\\|_2=\\sqrt{\\sum_i |v_i|^2},\\qquad \\hat v=\\frac{v}{\\|v\\|_2}\\ \\ (\\text{if }\\|v\\|_2\\neq 0).\n",
        "   $$\n",
        "\n",
        "**Hermitian conjugate**\n",
        "   $$\n",
        "   A^{*}=\\overline{A}^{\\top},\\quad \\text{in }\\mathbb{R}:\\ A^{*}=A^{\\top}.\n",
        "   $$\n",
        "\n",
        "**Householder matrix**\n",
        "   $$\n",
        "   H(v)=I-2\\,vv^{*},\\qquad v^{*}v=1.\n",
        "   $$\n",
        "\n",
        "**Reflection action**\n",
        "   $$\n",
        "   Hx=(I-2vv^{*})x=x-2\\,(v^{*}x)\\,v.\n",
        "   $$\n",
        "\n",
        "**Hermitian, unitary, and involutory properties of $H$**\n",
        "   $$\n",
        "   H^{*}=H,\\qquad H^{*}H=I,\\qquad H^2=I.\n",
        "   $$\n",
        "\n"
      ],
      "metadata": {
        "id": "7GRPNtyUwysI"
      },
      "id": "7GRPNtyUwysI"
    },
    {
      "cell_type": "markdown",
      "source": [
        "## Numerical exercises"
      ],
      "metadata": {
        "id": "GvZqTzT91O3J"
      },
      "id": "GvZqTzT91O3J"
    },
    {
      "cell_type": "markdown",
      "source": [
        "## Exercise 1 — Compute сonjugate transpose of :\n",
        "\n",
        "1.\n",
        "$$\n",
        "x=\\begin{bmatrix}2\\\\ -1\\\\ 3\\end{bmatrix}\\in\\mathbb{R}^{3\\times 1}.\n",
        "$$\n",
        "\n",
        "2.\n",
        "$$\n",
        "z=\\begin{bmatrix}3+2i\\\\ -i\\\\ 1-4i\\end{bmatrix}\\in\\mathbb{C}^{3\\times 1}.\n",
        "$$\n",
        "\n",
        "3.\n",
        "$$\n",
        "A=\\begin{bmatrix}\n",
        "1 & -2 & 0\\\\\n",
        "4 & 3 & -5\n",
        "\\end{bmatrix}\\in\\mathbb{R}^{2\\times 3}.\n",
        "$$\n",
        "\n",
        "4.\n",
        "$$\n",
        "B=\\begin{bmatrix}\n",
        "1+i & -2i\\\\\n",
        "3-4i & 5\n",
        "\\end{bmatrix}\\in\\mathbb{C}^{2\\times 2}.\n",
        "$$\n"
      ],
      "metadata": {
        "id": "IranPPpCOHM1"
      },
      "id": "IranPPpCOHM1"
    },
    {
      "cell_type": "markdown",
      "source": [
        "## **Solution**"
      ],
      "metadata": {
        "id": "Lz3S-EvqOH7U"
      },
      "id": "Lz3S-EvqOH7U"
    },
    {
      "cell_type": "markdown",
      "source": [
        "### 1.\n",
        "\n",
        "$x$ is real, so $\\overline{x}=x$.\n",
        "\n",
        "Turn the $3\\times 1$ column into a $1\\times 3$ row:\n",
        "$$\n",
        "x^{*}=\\overline{x}^{\\top}=x^{\\top}=\\begin{bmatrix}2 & -1 & 3\\end{bmatrix}.\n",
        "$$\n",
        "\n",
        "### 2.\n",
        "$$\n",
        "\\overline{z}=\\begin{bmatrix}3-2i\\\\ i\\\\ 1+4i\\end{bmatrix}.\n",
        "$$\n",
        "\n",
        "$$\n",
        "z^{*}=\\overline{z}^{\\top}=\\begin{bmatrix}3-2i & i & 1+4i\\end{bmatrix}.\n",
        "$$\n",
        "\n",
        "## 3.\n",
        "\n",
        "$A$ is real, so $\\overline{A}=A$.\n",
        "\n",
        "$$\n",
        "A^{*}=A^{\\top}=\n",
        "\\begin{bmatrix}\n",
        "1 & 4\\\n",
        "-2 & 3\\\n",
        "0 & -5\n",
        "\\end{bmatrix}.\n",
        "$$\n",
        "\n",
        "## 4.\n",
        "\n",
        "$$\n",
        "\\overline{B}=\\begin{bmatrix}\n",
        "1-i & 2i\\\\\n",
        "3+4i & 5\n",
        "\\end{bmatrix}.\n",
        "$$\n",
        "\n",
        "$$\n",
        "B^{*}=\\overline{B}^{\\top}\n",
        "=\\begin{bmatrix}\n",
        "1-i & 3+4i\\\\\n",
        "2i & 5\n",
        "\\end{bmatrix}.\n",
        "$$"
      ],
      "metadata": {
        "id": "9jQDz0f_MoUO"
      },
      "id": "9jQDz0f_MoUO"
    },
    {
      "cell_type": "markdown",
      "source": [
        "## Exercise 2 — Build a Householder reflector from a given $v$\n",
        "\n",
        "Given $v=\\begin{bmatrix}2\\\\-1\\\\2\\end{bmatrix}$. Construct\n",
        "$$\n",
        "H=I-2\\hat v \\hat v^{*},\\qquad \\hat v=\\frac{v}{\\|v\\|_2}.\n",
        "$$"
      ],
      "metadata": {
        "id": "xU3oOY6s1O5V"
      },
      "id": "xU3oOY6s1O5V"
    },
    {
      "cell_type": "markdown",
      "source": [
        "## **Solution**"
      ],
      "metadata": {
        "id": "EjezsXhd1a-3"
      },
      "id": "EjezsXhd1a-3"
    },
    {
      "cell_type": "markdown",
      "source": [
        "### Compute the 2-norm of $v$\n",
        "$$\n",
        "\\|v\\|_2 \\;=\\; \\sqrt{2^2+(-1)^2+2^2} \\;=\\; \\sqrt{9} \\;=\\; 3.\n",
        "$$\n",
        "\n",
        "### Normalize $v$\n",
        "$$\n",
        "\\hat v \\;=\\; \\frac{v}{\\|v\\|_2} \\;=\\; \\frac{1}{3}\\begin{bmatrix}2\\\\-1\\\\2\\end{bmatrix}\n",
        "\\;=\\; \\begin{bmatrix}\\tfrac{2}{3}\\\\[2pt]-\\tfrac{1}{3}\\\\[2pt]\\tfrac{2}{3}\\end{bmatrix}.\n",
        "$$\n",
        "\n",
        "### Form the outer product $\\hat v\\hat v^{*}$\n",
        "Since entries are real, $\\,\\hat v^{*}=\\hat v^{\\top}\\,$ and\n",
        "$$\n",
        "\\hat v\\hat v^{*}\n",
        "=\\begin{bmatrix}\\tfrac{2}{3}\\\\ -\\tfrac{1}{3}\\\\ \\tfrac{2}{3}\\end{bmatrix}\n",
        "\\begin{bmatrix}\\tfrac{2}{3} & -\\tfrac{1}{3} & \\tfrac{2}{3}\\end{bmatrix}\n",
        "=\\frac{1}{9}\n",
        "\\begin{bmatrix}\n",
        "4 & -2 & 4\\\\\n",
        "-2 & 1 & -2\\\\\n",
        "4 & -2 & 4\n",
        "\\end{bmatrix}.\n",
        "$$\n",
        "\n",
        "### Compute $2\\,\\hat v\\hat v^{*}$ and subtract from $I$\n",
        "$$\n",
        "2\\,\\hat v\\hat v^{*}\n",
        "=\\frac{2}{9}\n",
        "\\begin{bmatrix}\n",
        "4 & -2 & 4\\\\\n",
        "-2 & 1 & -2\\\\\n",
        "4 & -2 & 4\n",
        "\\end{bmatrix}\n",
        "=\\frac{1}{9}\n",
        "\\begin{bmatrix}\n",
        "8 & -4 & 8\\\\\n",
        "-4 & 2 & -4\\\\\n",
        "8 & -4 & 8\n",
        "\\end{bmatrix}.\n",
        "$$\n",
        "Therefore\n",
        "$$\n",
        "H \\;=\\; I-2\\,\\hat v\\hat v^{*}\n",
        "=\\begin{bmatrix}\n",
        "1-\\tfrac{8}{9} & \\tfrac{4}{9} & -\\tfrac{8}{9}\\\\\n",
        "\\tfrac{4}{9} & 1-\\tfrac{2}{9} & \\tfrac{4}{9}\\\\\n",
        "-\\tfrac{8}{9} & \\tfrac{4}{9} & 1-\\tfrac{8}{9}\n",
        "\\end{bmatrix}\n",
        "=\\frac{1}{9}\n",
        "\\begin{bmatrix}\n",
        "1 & 4 & -8\\\\\n",
        "4 & 7 & 4\\\\\n",
        "-8 & 4 & 1\n",
        "\\end{bmatrix}.\n",
        "$$\n"
      ],
      "metadata": {
        "id": "sbX0CQ4Z1fZx"
      },
      "id": "sbX0CQ4Z1fZx"
    },
    {
      "cell_type": "markdown",
      "source": [
        "##Exercise 3 — Build Householder matrix and verify Hermitian and unitary.\n",
        "Let $v=\\dfrac{1}{\\sqrt2}\\begin{bmatrix}1\\\\ i\\end{bmatrix}$. Build $H=I-2vv^{*}$ and verify Hermitian and unitary.\n",
        "\n"
      ],
      "metadata": {
        "id": "HTo0qzcG_wyo"
      },
      "id": "HTo0qzcG_wyo"
    },
    {
      "cell_type": "markdown",
      "source": [
        "## **Solution**"
      ],
      "metadata": {
        "id": "oin01myB_w1E"
      },
      "id": "oin01myB_w1E"
    },
    {
      "cell_type": "markdown",
      "source": [
        "Check that $v$ is unit‐norm\n",
        "$$\n",
        "\\|v\\|_2^2=v^{*}v=\\frac{1}{2}\\big(|1|^2+|i|^2\\big)=\\frac{1}{2}(1+1)=1.\n",
        "$$\n",
        "\n",
        "Compute the conjugate transpose $v^{*}$\n",
        "$$\n",
        "v^{*}=\\left(\\frac{1}{\\sqrt{2}}\\begin{bmatrix}1\\\\ i\\end{bmatrix}\\right)^{*}\n",
        "=\\frac{1}{\\sqrt{2}}\\begin{bmatrix}1 & -i\\end{bmatrix}.\n",
        "$$\n",
        "\n",
        "Compute $v v^{*}$\n",
        "$$\n",
        "v v^{*}\n",
        "=\\frac{1}{2}\n",
        "\\begin{bmatrix}1\\\\ i\\end{bmatrix}\n",
        "\\begin{bmatrix}1 & -i\\end{bmatrix}\n",
        "=\\frac{1}{2}\n",
        "\\begin{bmatrix}\n",
        "1 & -i\\\\\n",
        "i & 1\n",
        "\\end{bmatrix}.\n",
        "$$\n",
        "\n",
        "Build the Householder matrix $H$\n",
        "$$\n",
        "2\\,v v^{*}=\n",
        "\\begin{bmatrix}\n",
        "1 & -i\\\\\n",
        "i & 1\n",
        "\\end{bmatrix},\n",
        "\\qquad\n",
        "H=I-2\\,v v^{*}\n",
        "=\\begin{bmatrix}\n",
        "1 & 0\\\\ 0 & 1\n",
        "\\end{bmatrix}\n",
        "-\n",
        "\\begin{bmatrix}\n",
        "1 & -i\\\\\n",
        "i & 1\n",
        "\\end{bmatrix}\n",
        "=\n",
        "\\begin{bmatrix}\n",
        "0 & i\\\\\n",
        "-i & 0\n",
        "\\end{bmatrix}.\n",
        "$$\n",
        "\n",
        "Verify **Hermitian**: $H^{*}=H$\n",
        "Take conjugate transpose:\n",
        "$$\n",
        "H^{*}\n",
        "=\\begin{bmatrix}\n",
        "0 & i\\\\\n",
        "-i & 0\n",
        "\\end{bmatrix}^{*}\n",
        "=\\begin{bmatrix}\n",
        "0 & -i\\\\\n",
        "i & 0\n",
        "\\end{bmatrix}^{\\top}\n",
        "=\\begin{bmatrix}\n",
        "0 & i\\\\\n",
        "-i & 0\n",
        "\\end{bmatrix}\n",
        "=H.\n",
        "$$\n",
        "\n",
        "Verify **Unitary** (equivalently, involutory): $H^{*}H=I$ and $H^2=I$\n",
        "Compute $H^2$ directly:\n",
        "$$\n",
        "H^2=\n",
        "\\begin{bmatrix}\n",
        "0 & i\\\\\n",
        "-i & 0\n",
        "\\end{bmatrix}\n",
        "\\begin{bmatrix}\n",
        "0 & i\\\\\n",
        "-i & 0\n",
        "\\end{bmatrix}\n",
        "=\n",
        "\\begin{bmatrix}\n",
        "i\\cdot(-i) & 0\\\\\n",
        "0 & (-i)\\cdot i\n",
        "\\end{bmatrix}\n",
        "=\n",
        "\\begin{bmatrix}\n",
        "1 & 0\\\\\n",
        "0 & 1\n",
        "\\end{bmatrix}\n",
        "=I.\n",
        "$$\n",
        "Hence $H^{-1}=H$ and also $H^{*}H=I$ (so $H$ is unitary).\n"
      ],
      "metadata": {
        "id": "GJnV3sj1AOT8"
      },
      "id": "GJnV3sj1AOT8"
    },
    {
      "cell_type": "markdown",
      "source": [
        "## Exercise 4 — Unitary (orthogonality) check\n",
        "Let\n",
        "$$\n",
        "U=\\frac{1}{\\sqrt2}\\begin{bmatrix}\n",
        "1 & 1\\\\\n",
        "1 & -1\n",
        "\\end{bmatrix}.\n",
        "$$\n",
        "Show that $U$ is unitary (orthogonal in $\\mathbb{R}$).\n",
        "\n"
      ],
      "metadata": {
        "id": "YDnN5suzQNcU"
      },
      "id": "YDnN5suzQNcU"
    },
    {
      "cell_type": "markdown",
      "source": [
        "## **Solution**"
      ],
      "metadata": {
        "id": "bHOPF4OgQNgs"
      },
      "id": "bHOPF4OgQNgs"
    },
    {
      "cell_type": "markdown",
      "source": [
        "$$\n",
        "U^{*}U=U^{\\top}U=\\frac{1}{2}\n",
        "\\begin{bmatrix}1&1\\\\ 1&-1\\end{bmatrix}\n",
        "\\begin{bmatrix}1&1\\\\ 1&-1\\end{bmatrix}\n",
        "=\\frac{1}{2}\\begin{bmatrix}2&0\\\\ 0&2\\end{bmatrix}=I.\n",
        "$$"
      ],
      "metadata": {
        "id": "WtGQ0MryQNi6"
      },
      "id": "WtGQ0MryQNi6"
    },
    {
      "cell_type": "markdown",
      "source": [
        "## Exercise 5 — Check properties (Hermitian and Unitary)\n",
        "$$\n",
        "B=\\begin{bmatrix}\n",
        "4&0\\\\\n",
        "0&1\n",
        "\\end{bmatrix}.\n",
        "$$\n",
        "\n",
        "\n"
      ],
      "metadata": {
        "id": "ZvsSK5MYQr8E"
      },
      "id": "ZvsSK5MYQr8E"
    },
    {
      "cell_type": "markdown",
      "source": [
        "## **Solution**"
      ],
      "metadata": {
        "id": "-8eOqPZ-Qr-H"
      },
      "id": "-8eOqPZ-Qr-H"
    },
    {
      "cell_type": "markdown",
      "source": [
        "\n",
        "$B^{*}=B$ ⇒ Hermitian. But\n",
        "$$\n",
        "B^{*}B=B^2=\\begin{bmatrix}16&0\\\\ 0&1\\end{bmatrix}\\neq I,\n",
        "$$\n",
        "so not unitary."
      ],
      "metadata": {
        "id": "5dw0F8b6QsAV"
      },
      "id": "5dw0F8b6QsAV"
    },
    {
      "cell_type": "markdown",
      "source": [],
      "metadata": {
        "id": "Jz3BQRJIQsCS"
      },
      "id": "Jz3BQRJIQsCS"
    },
    {
      "cell_type": "markdown",
      "source": [
        "## Exercise 5 — Check unitarity/orthogonality\n",
        "Given $w=\\begin{bmatrix}1\\\\1\\end{bmatrix}$ (not unit). Compare\n",
        "$$\n",
        "\\tilde H = I-2\\,w w^{\\top}\n",
        "\\quad\\text{and}\\quad\n",
        "H=I-2\\,\\hat w \\hat w^{\\top},\\ \\ \\hat w=\\frac{w}{\\|w\\|_2}.\n",
        "$$\n",
        "\n",
        "\n"
      ],
      "metadata": {
        "id": "GXhtlz8DwywN"
      },
      "id": "GXhtlz8DwywN"
    },
    {
      "cell_type": "markdown",
      "source": [
        "## **Solution**"
      ],
      "metadata": {
        "id": "fambImOdwyx1"
      },
      "id": "fambImOdwyx1"
    },
    {
      "cell_type": "markdown",
      "source": [
        "\n",
        "$\\|w\\|_2=\\sqrt{2}$, $\\hat w=\\tfrac{1}{\\sqrt2}\\begin{bmatrix}1\\\\1\\end{bmatrix}$.\n",
        "$$\n",
        "\\tilde H = I-2\\begin{bmatrix}1\\\\1\\end{bmatrix}\\begin{bmatrix}1&1\\end{bmatrix}\n",
        "=\n",
        "\\begin{bmatrix}-1&-2\\\\ -2&-1\\end{bmatrix}\\ \\Rightarrow\\\n",
        "\\tilde H^{\\top}\\tilde H\\neq I,\n",
        "$$\n",
        "while\n",
        "$$\n",
        "H = I-2\\hat w \\hat w^{\\top}\n",
        "= I - 2\\cdot \\frac{1}{2}\n",
        "\\begin{bmatrix}1&1\\\\ 1&1\\end{bmatrix}\n",
        "=\n",
        "\\begin{bmatrix}0&-1\\\\ -1&0\\end{bmatrix},\n",
        "\\qquad\n",
        "H^{\\top}H=I.\n",
        "$$\n",
        "Conclusion: normalizing $v$ is necessary for unitarity/orthogonality."
      ],
      "metadata": {
        "id": "9ykdzlaVH48O"
      },
      "id": "9ykdzlaVH48O"
    }
  ],
  "metadata": {
    "kernelspec": {
      "display_name": "pupa",
      "language": "python",
      "name": "python3"
    },
    "language_info": {
      "codemirror_mode": {
        "name": "ipython",
        "version": 3
      },
      "file_extension": ".py",
      "mimetype": "text/x-python",
      "name": "python",
      "nbconvert_exporter": "python",
      "pygments_lexer": "ipython3",
      "version": "3.11.9"
    },
    "colab": {
      "provenance": [],
      "collapsed_sections": [
        "0Pfy7TYBkjLk",
        "JvngnkLVlvuu",
        "A-TBEIrTljvL",
        "cg03xmFhnhCH",
        "pHx7sgQrn6aY",
        "rPhSkGZls58L",
        "Lz3S-EvqOH7U",
        "EjezsXhd1a-3",
        "-8eOqPZ-Qr-H"
      ]
    }
  },
  "nbformat": 4,
  "nbformat_minor": 5
}