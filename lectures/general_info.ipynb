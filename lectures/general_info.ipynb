{
 "cells": [
  {
   "cell_type": "markdown",
   "metadata": {
    "slideshow": {
     "slide_type": "slide"
    }
   },
   "source": [
    "# Numerical linear algebra, Skoltech,  Fall 2025,  general course info"
   ]
  },
  {
   "cell_type": "markdown",
   "metadata": {
    "slideshow": {
     "slide_type": "slide"
    }
   },
   "source": [
    "## About the course\n",
    "\n",
    "- The course is about faster and more accurate computations (in scientific computing, in ML...)\n",
    "- Three main problems:\n",
    "    - solving linear systems\n",
    "    - finding eigenvalues and eigenvectors\n",
    "    - computing matrix functions (matrix exponential especially)\n",
    "- The methods are different for small-scale and large-scale problems:\n",
    "    - using matrix decompositions\n",
    "    - iterative methods"
   ]
  },
  {
   "cell_type": "markdown",
   "metadata": {
    "slideshow": {
     "slide_type": "slide"
    }
   },
   "source": [
    "## Learning outcomes\n",
    "\n",
    "-  Solve medium-scale numerical linear algebra problems \n",
    "(solve linear systems, compute eigenvalues and eigenvectors, solve linear least squares) using **matrix factorizations**\n",
    "-  **Iterative methods** for sparse/structured systems\n",
    "- Find which methods are the most appropriate for the particular problem\n",
    "-  Find appropriate software"
   ]
  },
  {
   "cell_type": "markdown",
   "metadata": {
    "slideshow": {
     "slide_type": "slide"
    }
   },
   "source": [
    "## (Approximate) Syllabus\n",
    "\n",
    "- **Week 1:** Intro and floating points arithmetics, matrices, vectors, norms, ranks. \n",
    "- **Week 2:** Matrix decompositions 1: SVD and its applications\n",
    "- **Week 3:** Matrix decompositions 2: Linear systems and LU, eigendecomposition\n",
    "- **Week 4:** Matrix decompositions 3: QR and Schur + project proposal deadline\n",
    "- **Week 5:** Sparse and structured matrices, iterative methods (part 1)\n",
    "- **Week 6:** Iterative methods (part 2), matrix functions and advanced topics\n",
    "- **Week 7:** Oral exam (two days)\n",
    "- **Week 8:** Application period and project presentations"
   ]
  },
  {
   "cell_type": "markdown",
   "metadata": {
    "slideshow": {
     "slide_type": "slide"
    }
   },
   "source": [
    "## Lecture access\n",
    "\n",
    "- Lectures can be downloaded and viewed on GitHub: (link distributed soon)\n",
    "- Telegram chat for the course (link distributed soon)\n"
   ]
  },
  {
   "cell_type": "markdown",
   "metadata": {
    "slideshow": {
     "slide_type": "slide"
    }
   },
   "source": [
    "## Team\n",
    "Course instructor: Ivan Oseledets, co-instructor: Alexander Mikhalev\n",
    "TAs: Iana Kulichenko, Evgeny Maslov, Artem Basharin, Anastasia Batsheva"
   ]
  },
  {
   "cell_type": "markdown",
   "metadata": {
    "slideshow": {
     "slide_type": "slide"
    }
   },
   "source": [
    "## How do we grade\n",
    "- ~~**50%** homework. Includes 3 problem sets with coding in Python and theoretical problems.~~\n",
    "- **20%** Midterm Exam\n",
    "- **20%** Every-Lecture Test\n",
    "- **30%** Final Exam\n",
    "- **30%** Final Project\n",
    "- ~~**10%** Bonus. Solve bonus tasks from HW.~~\n",
    "\n",
    "Total maximum is **100%**."
   ]
  },
  {
   "cell_type": "markdown",
   "metadata": {
    "slideshow": {
     "slide_type": "slide"
    }
   },
   "source": [
    "## Problem sets\n",
    "\n",
    "1. Homework is distributed in **Jupyter notebooks**\n",
    "\n",
    "2. Problem sets contain both **theoretical** and **programming** tasks\n",
    "\n",
    "3. No hand-written solutions are accepted, only Markdown and $\\LaTeX$ text in the single Jupyter Notebook file are Ok."
   ]
  },
  {
   "cell_type": "markdown",
   "metadata": {
    "slideshow": {
     "slide_type": "slide"
    }
   },
   "source": [
    "## Attendance\n",
    "\n",
    "Attendance is not strict, but **but you will miss the test -- don't get points**, so it is graded. "
   ]
  },
  {
   "cell_type": "markdown",
   "metadata": {
    "slideshow": {
     "slide_type": "slide"
    }
   },
   "source": [
    "## Exam\n",
    "\n",
    "- Classical oral exam with a list of questions ([questions](https://github.com/oseledets/nla2020/blob/master/exam/exam_questions.pdf) from 2020)\n",
    "- **If you fail exam, you get zero for the course**\n",
    "- [The list of questions](https://github.com/oseledets/nla2020/blob/master/exam/teormin.pdf) such that if you can not answer any question from this list during the final exam, you will automatically get **F** for this course. It will be probably updated by the end of November. "
   ]
  },
  {
   "cell_type": "markdown",
   "metadata": {
    "slideshow": {
     "slide_type": "slide"
    }
   },
   "source": [
    "## Projects\n",
    "\n",
    "\n",
    "- We give you time ($\\approx$ one week) and points (30% of your final grade) to test studied methods in real-world problems\n",
    "- For inspiration you can checkout recent conference papers (e.g. [here](https://openreview.net/))\n",
    "- 2–5 students per team\n",
    "- Start thinking about your project topics as early as possible!"
   ]
  },
  {
   "cell_type": "markdown",
   "metadata": {
    "slideshow": {
     "slide_type": "slide"
    }
   },
   "source": [
    "## Grades\n",
    "\n",
    "1. A: 86 - 100 %\n",
    "2. B: 70 - 85 %\n",
    "3. C: 50 - 70 %\n",
    "4. D: 30 - 50 %\n",
    "5. E: 15 - 30 %\n",
    "6. F: 0 - 15 %\n",
    "\n",
    "But they can be slightly adjusted."
   ]
  },
  {
   "cell_type": "markdown",
   "metadata": {
    "slideshow": {
     "slide_type": "slide"
    }
   },
   "source": [
    "## Python \n",
    "- We will use Python ecosystem for programming.\n",
    "- Please, follow the rules that will be given in the problem sets"
   ]
  },
  {
   "cell_type": "markdown",
   "metadata": {
    "slideshow": {
     "slide_type": "slide"
    }
   },
   "source": [
    "## Materials\n",
    "\n",
    "**Our materials:**\n",
    "- Lecture notes are avaliable online\n",
    "- Matrix decomposition [cheat sheet](./decompositions.pdf)\n",
    "\n",
    "\n",
    "**If you have difficulties with basic linear algebra:**\n",
    "- [Cheat sheet](http://cs229.stanford.edu/section/cs229-linalg.pdf) with basics\n",
    "- Gilbert Strang book \"Introduction to Linear Algebra\"\n",
    "- Gilbert Strang has [recorded lectures](https://www.youtube.com/watch?v=ZK3O402wf1c&list=PL49CF3715CB9EF31D) on YouTube\n",
    "\n",
    "\n",
    "**Comprehensive NLA books:**\n",
    "- Gene H. Golub, Charles. F. Van Loan, \"Matrix computations\" (4th edition)\n",
    "- Lloyd N. Trefethen and David Bau III, \"Numerical Linear Algebra\"\n",
    "- Eugene. E. Tyrtyshnikov, \"Brief introduction to numerical analysis\"\n",
    "- James W. Demmel, \"Numerical Linear Algebra\"\n",
    "\n",
    "\n",
    "- Many applications of linear algebra you can find in [Introduction to\n",
    "Applied Linear Algebra](http://vmls-book.stanford.edu/vmls.pdf) by S. Boyd and L. Vandenberghe"
   ]
  }
 ],
 "metadata": {
  "anaconda-cloud": {},
  "celltoolbar": "Slideshow",
  "kernelspec": {
   "display_name": "Python 3 (ipykernel)",
   "language": "python",
   "name": "python3"
  },
  "language_info": {
   "codemirror_mode": {
    "name": "ipython",
    "version": 3
   },
   "file_extension": ".py",
   "mimetype": "text/x-python",
   "name": "python",
   "nbconvert_exporter": "python",
   "pygments_lexer": "ipython3",
   "version": "3.10.15"
  },
  "latex_envs": {
   "LaTeX_envs_menu_present": true,
   "bibliofile": "biblio.bib",
   "cite_by": "apalike",
   "current_citInitial": 1,
   "eqLabelWithNumbers": true,
   "eqNumInitial": 1,
   "labels_anchors": false,
   "latex_user_defs": false,
   "report_style_numbering": false,
   "user_envs_cfg": false
  },
  "nav_menu": {},
  "rise": {
   "scroll": true,
   "theme": "sky",
   "transition": "zoom"
  },
  "toc": {
   "navigate_menu": true,
   "number_sections": false,
   "sideBar": true,
   "threshold": 6,
   "toc_cell": false,
   "toc_section_display": "block",
   "toc_window_display": false
  }
 },
 "nbformat": 4,
 "nbformat_minor": 1
}
